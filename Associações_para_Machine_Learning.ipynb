{
  "nbformat": 4,
  "nbformat_minor": 0,
  "metadata": {
    "colab": {
      "provenance": [],
      "authorship_tag": "ABX9TyNMndlWEHFyeKF5OUpTTmDF",
      "include_colab_link": true
    },
    "kernelspec": {
      "name": "python3",
      "display_name": "Python 3"
    },
    "language_info": {
      "name": "python"
    }
  },
  "cells": [
    {
      "cell_type": "markdown",
      "metadata": {
        "id": "view-in-github",
        "colab_type": "text"
      },
      "source": [
        "<a href=\"https://colab.research.google.com/github/moraesleonardo/Associacoes_para_Machine_Learning/blob/main/Associa%C3%A7%C3%B5es_para_Machine_Learning.ipynb\" target=\"_parent\"><img src=\"https://colab.research.google.com/assets/colab-badge.svg\" alt=\"Open In Colab\"/></a>"
      ]
    },
    {
      "cell_type": "markdown",
      "source": [
        "# Associações\n",
        "\n",
        "## Exemplo\n",
        "\n",
        "### Base de produtos bancários\n",
        "\n",
        "Referência: <http://rasbt.github.io/mlxtend/user_guide/frequent_patterns/apriori/>"
      ],
      "metadata": {
        "id": "Ec7GzhQt9S7U"
      }
    },
    {
      "cell_type": "markdown",
      "source": [
        "### Importando bibliotecas"
      ],
      "metadata": {
        "id": "hx256NIE9Wjb"
      }
    },
    {
      "cell_type": "code",
      "execution_count": null,
      "metadata": {
        "id": "d8NHLnqA9O9o"
      },
      "outputs": [],
      "source": [
        "import pandas as pd\n",
        "import seaborn as sns\n",
        "import matplotlib.pyplot as plt\n",
        "\n",
        "from mlxtend.frequent_patterns import apriori\n",
        "from mlxtend.frequent_patterns import association_rules"
      ]
    },
    {
      "cell_type": "markdown",
      "source": [
        "### Lendo a base"
      ],
      "metadata": {
        "id": "GziMYiIo9cPf"
      }
    },
    {
      "cell_type": "code",
      "source": [
        "cesta_ = pd.read_csv('cesta_produtos.csv')"
      ],
      "metadata": {
        "id": "zNwgHtL89dx3"
      },
      "execution_count": null,
      "outputs": []
    },
    {
      "cell_type": "code",
      "source": [
        "cesta_"
      ],
      "metadata": {
        "id": "vuow2IwQ9fDP"
      },
      "execution_count": null,
      "outputs": []
    },
    {
      "cell_type": "markdown",
      "source": [
        "### Preparando a base"
      ],
      "metadata": {
        "id": "Fv_mgVWC9hD-"
      }
    },
    {
      "cell_type": "markdown",
      "source": [
        "# Removendo entradas de clientes com apenas um produto\n",
        "cesta_['soma'] = cesta_.count(axis=1)\n",
        "cesta_ = cesta_[cesta_['soma'] != 1]\n",
        "cesta_.drop('soma', axis=1, inplace=True)"
      ],
      "metadata": {
        "id": "eqQAMAjY9iW4"
      }
    },
    {
      "cell_type": "code",
      "source": [
        "# Convertendo valores das células para 0s ou 1s.\n",
        "cesta_ = cesta_.notnull().astype('int')"
      ],
      "metadata": {
        "id": "MFs8zbWR9kTN"
      },
      "execution_count": null,
      "outputs": []
    },
    {
      "cell_type": "code",
      "source": [
        "cesta_"
      ],
      "metadata": {
        "id": "es8SK9fh9lc7"
      },
      "execution_count": null,
      "outputs": []
    },
    {
      "cell_type": "markdown",
      "source": [
        "### Aplicando o algoritmo Apriori"
      ],
      "metadata": {
        "id": "Y9AN_HZM9muu"
      }
    },
    {
      "cell_type": "code",
      "source": [
        "# Gerando conjuntos de itens frequentes\n",
        "frequent_itemsets_ = apriori(cesta_, min_support=0.01, use_colnames=True)"
      ],
      "metadata": {
        "id": "FuSVu-ox9oQm"
      },
      "execution_count": null,
      "outputs": []
    },
    {
      "cell_type": "code",
      "source": [
        "# Incluindo a quantidade de itens por entrada\n",
        "frequent_itemsets_['length'] = frequent_itemsets_['itemsets'].apply(lambda x: len(x))"
      ],
      "metadata": {
        "id": "exLJwG1m9ph2"
      },
      "execution_count": null,
      "outputs": []
    },
    {
      "cell_type": "code",
      "source": [
        "frequent_itemsets_"
      ],
      "metadata": {
        "id": "zfzM7v-j9qhO"
      },
      "execution_count": null,
      "outputs": []
    },
    {
      "cell_type": "code",
      "source": [
        "# Gerando regras\n",
        "rules_ = association_rules(frequent_itemsets_, metric=\"lift\", min_threshold=1)"
      ],
      "metadata": {
        "id": "YGTZ4kWG9rkl"
      },
      "execution_count": null,
      "outputs": []
    },
    {
      "cell_type": "code",
      "source": [
        "# Convertendo o formato frozenset para lista comum\n",
        "frequent_itemsets_['itemsets'] = frequent_itemsets_['itemsets'].apply(lambda x: list(x)).astype('unicode')\n",
        "rules_['antecedents'] = rules_['antecedents'].apply(lambda x: list(x)).astype('unicode')\n",
        "rules_['consequents'] = rules_['consequents'].apply(lambda x: list(x)).astype('unicode')"
      ],
      "metadata": {
        "id": "CjUcBqMK9tRP"
      },
      "execution_count": null,
      "outputs": []
    },
    {
      "cell_type": "code",
      "source": [
        "rules_"
      ],
      "metadata": {
        "id": "wd_pFbBk9uR4"
      },
      "execution_count": null,
      "outputs": []
    },
    {
      "cell_type": "markdown",
      "source": [
        "### Ajustando a base"
      ],
      "metadata": {
        "id": "web0ceIW9vtd"
      }
    },
    {
      "cell_type": "code",
      "source": [
        "# Removendo duplicatas - Resultado APRIORI\n",
        "# Ordenando por Confiança\n",
        "rules_.sort_values('confidence', ascending=False, inplace=True)"
      ],
      "metadata": {
        "id": "mxby4EQX9wld"
      },
      "execution_count": null,
      "outputs": []
    },
    {
      "cell_type": "code",
      "source": [
        "# Removendo duplicatas por Suporte e Lift, mantendo a primeira ocorrência (maior confiança)\n",
        "rules_.drop_duplicates(['support','lift'], keep='first', inplace=True)"
      ],
      "metadata": {
        "id": "cKvHxn3P9x5A"
      },
      "execution_count": null,
      "outputs": []
    },
    {
      "cell_type": "markdown",
      "source": [
        "### Visualizações"
      ],
      "metadata": {
        "id": "TPTpsMIS9zLV"
      }
    },
    {
      "cell_type": "code",
      "source": [
        "# Ordenando resultados pela métrica Suporte\n",
        "frequent_itemsets_.sort_values('support', ascending=False, inplace=True)"
      ],
      "metadata": {
        "id": "O1ewhE1L90a9"
      },
      "execution_count": null,
      "outputs": []
    },
    {
      "cell_type": "code",
      "source": [
        "# Mantendo apenas as carteiras de maior suporte\n",
        "frequent_itemsets_ = frequent_itemsets_.head(15)"
      ],
      "metadata": {
        "id": "9WFdpKJa91uu"
      },
      "execution_count": null,
      "outputs": []
    },
    {
      "cell_type": "code",
      "source": [
        "# Criando a visualização\n",
        "fig, ax1 = plt.subplots(figsize=(9, 15))\n",
        "sns.barplot(x='support', y='itemsets', data=frequent_itemsets_)\n",
        "ax1.set(ylabel='Conjuntos de itens')\n",
        "ax1.set(xlabel='Suporte')\n",
        "plt.title('Conjuntos de itens - Produtos (Top-15 Suporte)')\n",
        "plt.tight_layout()\n",
        "fig.savefig('Conjuntos_de_itens_Carteiras_Suporte.png')"
      ],
      "metadata": {
        "id": "YMFgJhSk93HC"
      },
      "execution_count": null,
      "outputs": []
    },
    {
      "cell_type": "code",
      "source": [
        "# Função para geração de visualização Confiança x Lift\n",
        "def visualiza_regras_conf_lift(df, tipo):\n",
        "    df.sort_values(['lift','confidence'], ascending=[False,False], inplace=True)\n",
        "    fig, ax1 = plt.subplots(figsize=(10, 10))\n",
        "    sns.scatterplot(x='consequents', y='antecedents', data=df, size='confidence',\n",
        "                    palette='icefire', edgecolors='black',\n",
        "                    hue='lift', legend=True, alpha=0.8, sizes=(10,1000))\n",
        "    ax1.tick_params(axis='x', labelrotation=90)\n",
        "    ax1.set(ylabel='LHS (Antecedentes)')\n",
        "    ax1.set(xlabel='RHS (Consequentes)')\n",
        "    plt.title(tipo + ' (Regras) - Relação Confiança x Lift')\n",
        "    plt.grid(alpha=0.2)\n",
        "    plt.tight_layout()\n",
        "    fig.savefig('Regras - Confiança x Lift.png')"
      ],
      "metadata": {
        "id": "XYWrLBaa94Zc"
      },
      "execution_count": null,
      "outputs": []
    },
    {
      "cell_type": "code",
      "source": [
        "# Visualização Regras - Confiança x Lift\n",
        "# Filtrando para apresentar uma quantidade menor de resultados\n",
        "rules_1 = rules_[rules_['lift'] > 7.6]"
      ],
      "metadata": {
        "id": "qVBV8av5956c"
      },
      "execution_count": null,
      "outputs": []
    },
    {
      "cell_type": "code",
      "source": [
        "# Apresentando a visualização\n",
        "visualiza_regras_conf_lift(rules_1, 'Produtos')"
      ],
      "metadata": {
        "id": "9Mt2Uolo965e"
      },
      "execution_count": null,
      "outputs": []
    },
    {
      "cell_type": "markdown",
      "source": [
        "### Visualizações utilizando grafos (NetworkX)"
      ],
      "metadata": {
        "id": "1Or1mOA698P8"
      }
    },
    {
      "cell_type": "code",
      "source": [
        "import networkx as nx\n",
        "from bokeh.io import show, save\n",
        "from bokeh.models import Range1d, Circle, MultiLine\n",
        "from bokeh.plotting import figure\n",
        "from bokeh.plotting import from_networkx\n",
        "\n",
        "# Definindo o que será apresentado\n",
        "fig, ax=plt.subplots(figsize=(20,15))\n",
        "GA = nx.from_pandas_edgelist(rules_1, source='antecedents', target='consequents')\n",
        "nx.draw(GA, with_labels=True, font_size=10)\n",
        "\n",
        "# Definindo um título\n",
        "title = 'Relações entre produtos'\n",
        "\n",
        "# Definindo o que será apresentado ao passar o mouse pela informação\n",
        "HOVER_TOOLTIPS = [('Antecedente', '@index')]\n",
        "\n",
        "# Criando a visualização\n",
        "plot = figure(tooltips = HOVER_TOOLTIPS,\n",
        "              tools=\"pan,wheel_zoom,save,reset\", active_scroll='wheel_zoom',\n",
        "            x_range=Range1d(-15.1, 15.1), y_range=Range1d(-15.1, 15.1), title=title)\n",
        "\n",
        "# Criando um grafo da rede com o layout 'spring'\n",
        "# https://networkx.github.io/documentation/networkx-1.9/reference/generated/networkx.drawing.layout.spring_layout.html\n",
        "network_graph = from_networkx(GA, nx.spring_layout, scale=15, center=(0, 0))\n",
        "\n",
        "# Configurando cor e tamenaho do nó\n",
        "network_graph.node_renderer.glyph = Circle(size=15, fill_color='skyblue')\n",
        "# Configurando opacidade etamanho do vértice\n",
        "network_graph.edge_renderer.glyph = MultiLine(line_alpha=0.5, line_width=1)\n",
        "# Adicionando o grafo da rede na visualização\n",
        "plot.renderers.append(network_graph)\n",
        "\n",
        "#show(plot)\n",
        "save(plot, filename=f\"{title}.html\")"
      ],
      "metadata": {
        "id": "hUnIs-ti9-ZQ"
      },
      "execution_count": null,
      "outputs": []
    }
  ]
}